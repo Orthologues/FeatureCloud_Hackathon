{
 "cells": [
  {
   "cell_type": "markdown",
   "id": "93156cae",
   "metadata": {},
   "source": [
    "#### Date: 21-06-2022"
   ]
  },
  {
   "cell_type": "markdown",
   "id": "7b705d1d",
   "metadata": {},
   "source": [
    "#### Challenge: multiclass classification for <code>ChestMNIST</code> dataset (https://arxiv.org/abs/2110.14795)\n",
    "#### Tutorial: https://github.com/MedMNIST/MedMNIST/blob/main/examples/getting_started.ipynb"
   ]
  },
  {
   "cell_type": "code",
   "execution_count": 158,
   "id": "5e37f240",
   "metadata": {},
   "outputs": [],
   "source": [
    "from tqdm import tqdm\n",
    "import numpy as np\n",
    "import torch\n",
    "import torch.nn as nn\n",
    "import torch.optim as optim\n",
    "import torch.utils.data as data\n",
    "import torchvision.transforms as transforms\n",
    "\n",
    "import medmnist as medm\n",
    "from medmnist import INFO, Evaluator\n",
    "import pandas as pd"
   ]
  },
  {
   "cell_type": "code",
   "execution_count": 159,
   "id": "e4908d5d",
   "metadata": {
    "scrolled": true
   },
   "outputs": [],
   "source": [
    "data_flag = 'chestmnist'\n",
    "download = True\n",
    "\n",
    "NUM_EPOCHS = 3\n",
    "BATCH_SIZE = 256\n",
    "lr = 0.001\n",
    "\n",
    "info = INFO[data_flag]\n",
    "task = info['task']\n",
    "n_channels = info['n_channels']\n",
    "n_classes = len(info['label'])\n",
    "\n",
    "DataClass = getattr(medm, info['python_class'])"
   ]
  },
  {
   "cell_type": "code",
   "execution_count": 160,
   "id": "5ece0916",
   "metadata": {},
   "outputs": [
    {
     "data": {
      "text/plain": [
       "medmnist.dataset.ChestMNIST"
      ]
     },
     "execution_count": 160,
     "metadata": {},
     "output_type": "execute_result"
    }
   ],
   "source": [
    "DataClass"
   ]
  },
  {
   "cell_type": "code",
   "execution_count": 161,
   "id": "eef1d63a",
   "metadata": {},
   "outputs": [
    {
     "data": {
      "text/plain": [
       "14"
      ]
     },
     "execution_count": 161,
     "metadata": {},
     "output_type": "execute_result"
    }
   ],
   "source": [
    "n_classes"
   ]
  },
  {
   "cell_type": "code",
   "execution_count": 169,
   "id": "0e106dfa",
   "metadata": {},
   "outputs": [
    {
     "data": {
      "text/plain": [
       "{'python_class': 'ChestMNIST',\n",
       " 'description': 'The ChestMNIST is based on the NIH-ChestXray14 dataset, a dataset comprising 112,120 frontal-view X-Ray images of 30,805 unique patients with the text-mined 14 disease labels, which could be formulized as a multi-label binary-class classification task. We use the official data split, and resize the source images of 1×1024×1024 into 1×28×28.',\n",
       " 'url': 'https://zenodo.org/record/6496656/files/chestmnist.npz?download=1',\n",
       " 'MD5': '02c8a6516a18b556561a56cbdd36c4a8',\n",
       " 'task': 'multi-label, binary-class',\n",
       " 'label': {'0': 'atelectasis',\n",
       "  '1': 'cardiomegaly',\n",
       "  '2': 'effusion',\n",
       "  '3': 'infiltration',\n",
       "  '4': 'mass',\n",
       "  '5': 'nodule',\n",
       "  '6': 'pneumonia',\n",
       "  '7': 'pneumothorax',\n",
       "  '8': 'consolidation',\n",
       "  '9': 'edema',\n",
       "  '10': 'emphysema',\n",
       "  '11': 'fibrosis',\n",
       "  '12': 'pleural',\n",
       "  '13': 'hernia'},\n",
       " 'n_channels': 1,\n",
       " 'n_samples': {'train': 78468, 'val': 11219, 'test': 22433},\n",
       " 'license': 'CC BY 4.0'}"
      ]
     },
     "execution_count": 169,
     "metadata": {},
     "output_type": "execute_result"
    }
   ],
   "source": [
    "info"
   ]
  },
  {
   "cell_type": "code",
   "execution_count": 170,
   "id": "42c69e47",
   "metadata": {},
   "outputs": [
    {
     "data": {
      "text/plain": [
       "'multi-label, binary-class'"
      ]
     },
     "execution_count": 170,
     "metadata": {},
     "output_type": "execute_result"
    }
   ],
   "source": [
    "task # we should choose 'multi-label'"
   ]
  },
  {
   "cell_type": "code",
   "execution_count": 171,
   "id": "7235caf9",
   "metadata": {},
   "outputs": [],
   "source": [
    "# define a preprocessing func to normalize data\n",
    "data_transform = transforms.Compose([\n",
    "    transforms.ToTensor(),\n",
    "    transforms.Normalize(mean=[.5], std=[.5])\n",
    "])"
   ]
  },
  {
   "cell_type": "code",
   "execution_count": 172,
   "id": "9fb975d8",
   "metadata": {},
   "outputs": [
    {
     "name": "stdout",
     "output_type": "stream",
     "text": [
      "Using downloaded and verified file: /home/jiawei/.medmnist/chestmnist.npz\n",
      "Using downloaded and verified file: /home/jiawei/.medmnist/chestmnist.npz\n",
      "Using downloaded and verified file: /home/jiawei/.medmnist/chestmnist.npz\n"
     ]
    }
   ],
   "source": [
    "# load the data\n",
    "train_dataset = DataClass(split='train', transform=data_transform, download=download)\n",
    "test_dataset = DataClass(split='test', transform=data_transform, download=download)\n",
    "\n",
    "pil_dataset = DataClass(split='train', download=download)\n",
    "\n",
    "# encapsulate data into dataloader form\n",
    "train_loader = data.DataLoader(dataset=train_dataset, batch_size=BATCH_SIZE, shuffle=True)\n",
    "test_loader = data.DataLoader(dataset=test_dataset, batch_size=BATCH_SIZE, shuffle=False)"
   ]
  },
  {
   "cell_type": "code",
   "execution_count": 174,
   "id": "435d3c11",
   "metadata": {
    "scrolled": false
   },
   "outputs": [
    {
     "name": "stderr",
     "output_type": "stream",
     "text": [
      "/home/jiawei/anaconda3/envs/r_env/lib/python3.10/site-packages/medmnist/utils.py:25: FutureWarning: `multichannel` is a deprecated argument name for `montage`. It will be removed in version 1.0. Please use `channel_axis` instead.\n",
      "  montage_arr = skimage_montage(sel_img, multichannel=(n_channels == 3))\n"
     ]
    },
    {
     "data": {
      "image/png": "[encoded data removed]",
      "text/plain": [
       "<PIL.Image.Image image mode=L size=140x140>"
      ]
     },
     "execution_count": 174,
     "metadata": {},
     "output_type": "execute_result"
    }
   ],
   "source": [
    "# visualization as per montage\n",
    "train_dataset.montage(length=5)"
   ]
  },
  {
   "cell_type": "markdown",
   "id": "6c6d29fe",
   "metadata": {},
   "source": [
    "#### Then, we define a baseline model for illustration using ResNet18 (28) NN arch, object function and optimizer that we use to classify.\n",
    "#### Constructing ResNet18 from Scratch in Python https://www.kaggle.com/code/ivankunyankin/resnet18-from-scratch-using-pytorch/notebook"
   ]
  },
  {
   "cell_type": "code",
   "execution_count": 40,
   "id": "979cc243",
   "metadata": {},
   "outputs": [],
   "source": [
    "class Block(nn.Module):\n",
    "    \n",
    "    def __init__(self, in_channels, out_channels, identity_downsample=None, stride=1):\n",
    "        super().__init__()\n",
    "        self.conv1 = nn.Conv2d(in_channels, out_channels, kernel_size=3, stride=stride, padding=1)\n",
    "        self.bn1 = nn.BatchNorm2d(out_channels)\n",
    "        self.conv2 = nn.Conv2d(out_channels, out_channels, kernel_size=3, stride=1, padding=1)\n",
    "        self.bn2 = nn.BatchNorm2d(out_channels)\n",
    "        self.relu = nn.ReLU()\n",
    "        self.identity_downsample = identity_downsample\n",
    "        \n",
    "    def forward(self, x):\n",
    "        identity = x\n",
    "        x = self.conv1(x)\n",
    "        x = self.bn1(x)\n",
    "        x = self.relu(x)\n",
    "        x = self.conv2(x)\n",
    "        x = self.bn2(x)\n",
    "        if self.identity_downsample is not None:\n",
    "            identity = self.identity_downsample(identity)\n",
    "        x += identity\n",
    "        x = self.relu(x)\n",
    "        return x\n",
    "\n",
    "    \n",
    "class ResNet18(nn.Module):\n",
    "    \n",
    "    def __init__(self, image_channels, num_classes):\n",
    "        \n",
    "        super().__init__()\n",
    "        self.in_channels = 64\n",
    "        self.conv1 = nn.Conv2d(image_channels, 64, kernel_size=7, stride=2, padding=3)\n",
    "        self.bn1 = nn.BatchNorm2d(64)\n",
    "        self.relu = nn.ReLU()\n",
    "        self.maxpool = nn.MaxPool2d(kernel_size=3, stride=2, padding=1)\n",
    "        \n",
    "        #resnet layers\n",
    "        self.layer1 = self.__make_layer(64, 64, stride=1)\n",
    "        self.layer2 = self.__make_layer(64, 128, stride=2)\n",
    "        self.layer3 = self.__make_layer(128, 256, stride=2)\n",
    "        self.layer4 = self.__make_layer(256, 512, stride=2)\n",
    "        \n",
    "        self.avgpool = nn.AdaptiveAvgPool2d((1, 1))\n",
    "        self.fc = nn.Linear(512, num_classes)\n",
    "        \n",
    "    def __make_layer(self, in_channels, out_channels, stride):\n",
    "        \n",
    "        identity_downsample = None\n",
    "        if stride != 1:\n",
    "            identity_downsample = self.identity_downsample(in_channels, out_channels)\n",
    "            \n",
    "        return nn.Sequential(\n",
    "            Block(in_channels, out_channels, identity_downsample=identity_downsample, stride=stride), \n",
    "            Block(out_channels, out_channels)\n",
    "        )\n",
    "        \n",
    "    def forward(self, x):\n",
    "        \n",
    "        x = self.conv1(x)\n",
    "        x = self.bn1(x)\n",
    "        x = self.relu(x)\n",
    "        x = self.maxpool(x)\n",
    "        \n",
    "        x = self.layer1(x)\n",
    "        x = self.layer2(x)\n",
    "        x = self.layer3(x)\n",
    "        x = self.layer4(x)\n",
    "        \n",
    "        x = self.avgpool(x)\n",
    "        x = x.view(x.shape[0], -1)\n",
    "        x = self.fc(x)\n",
    "        return x \n",
    "    \n",
    "    def identity_downsample(self, in_channels, out_channels):\n",
    "        \n",
    "        return nn.Sequential(\n",
    "            nn.Conv2d(in_channels, out_channels, kernel_size=3, stride=2, padding=1), \n",
    "            nn.BatchNorm2d(out_channels)\n",
    "        )\n",
    "\n",
    "resn18_model = ResNet18(n_channels, n_classes)"
   ]
  },
  {
   "cell_type": "markdown",
   "id": "d4771333",
   "metadata": {},
   "source": [
    "#### Perform traning and evaluation"
   ]
  },
  {
   "cell_type": "code",
   "execution_count": 48,
   "id": "2d772cd0",
   "metadata": {},
   "outputs": [
    {
     "name": "stderr",
     "output_type": "stream",
     "text": [
      "100%|█████████████████████████████████████████| 307/307 [36:55<00:00,  7.22s/it]\n",
      "100%|█████████████████████████████████████████| 307/307 [36:45<00:00,  7.18s/it]\n",
      "100%|█████████████████████████████████████████| 307/307 [37:40<00:00,  7.36s/it]\n"
     ]
    }
   ],
   "source": [
    "# define the loss function and optimizer\n",
    "# define loss function and optimizer\n",
    "if task == \"multi-label, binary-class\":\n",
    "    criterion = nn.BCEWithLogitsLoss()\n",
    "else:\n",
    "    criterion = nn.CrossEntropyLoss()\n",
    "\n",
    "# Try to use\n",
    "#optimizer_adam = optim.Adam(resn18_model.parameters(), lr=lr, weight_decay=1e-4)\n",
    "optimizer = optim.SGD(resn18_model.parameters(), lr=lr, momentum=0.9)\n",
    "\n",
    "# train ChestMNIST Data for 3 epochs\n",
    "\n",
    "for epoch in range(NUM_EPOCHS):\n",
    "    train_correct = 0\n",
    "    train_total = 0\n",
    "    test_correct = 0\n",
    "    test_total = 0\n",
    "    \n",
    "    resn18_model.train()\n",
    "    for inputs, targets in tqdm(train_loader):\n",
    "        # forward + backward + optimize\n",
    "        optimizer.zero_grad()\n",
    "        outputs = resn18_model(inputs)\n",
    "        \n",
    "        if task == 'multi-label, binary-class':\n",
    "            targets = targets.to(torch.float32)\n",
    "            loss = criterion(outputs, targets)\n",
    "        else:\n",
    "            targets = targets.squeeze().long()\n",
    "            loss = criterion(outputs, targets)\n",
    "        \n",
    "        loss.backward()\n",
    "        optimizer.step()"
   ]
  },
  {
   "cell_type": "markdown",
   "id": "4f06be16",
   "metadata": {},
   "source": [
    "#### Save the model and predict"
   ]
  },
  {
   "cell_type": "code",
   "execution_count": 52,
   "id": "e15da2b4",
   "metadata": {},
   "outputs": [],
   "source": [
    "%%bash\n",
    "mkdir -p manuel_git_repo/notebooks/resnet18_chestmnist_test"
   ]
  },
  {
   "cell_type": "code",
   "execution_count": 56,
   "id": "d3fbe973",
   "metadata": {},
   "outputs": [],
   "source": [
    "# save states of the trained model\n",
    "torch.save(resn18_model.state_dict(), \"manuel_git_repo/notebooks/resnet18_chestmnist_test/3epochs_model\")"
   ]
  },
  {
   "cell_type": "code",
   "execution_count": 58,
   "id": "cd0020d6",
   "metadata": {},
   "outputs": [
    {
     "name": "stdout",
     "output_type": "stream",
     "text": [
      "154534 manuel_git_repo/resnet18_chestmnist_test/3epochs_model\n"
     ]
    }
   ],
   "source": [
    "%%bash\n",
    "wc -l manuel_git_repo/resnet18_chestmnist_test/3epochs_model"
   ]
  },
  {
   "cell_type": "code",
   "execution_count": 180,
   "id": "dc2bcf19",
   "metadata": {},
   "outputs": [
    {
     "name": "stdout",
     "output_type": "stream",
     "text": [
      "torch.Size([22433, 14]) torch.Size([22433, 14])\n"
     ]
    }
   ],
   "source": [
    "# predict the test dataset using the train model (3 epochs)\n",
    "resn18_model.eval()\n",
    "y_true = torch.tensor([])\n",
    "y_score = torch.tensor([])\n",
    "with torch.no_grad():\n",
    "    for inputs, targets in test_loader:\n",
    "        outputs = resn18_model(inputs)\n",
    "        if task == 'multi-label, binary-class':\n",
    "            targets = targets.to(torch.float32)\n",
    "            # use softmax instead of standard normalization\n",
    "            outputs = outputs.softmax(dim=-1)\n",
    "        # \"else\" part could be ignored since we don't evaluate other types of datasets \n",
    "        else:\n",
    "            targets = targets.squeeze().long()\n",
    "            outputs = outputs.softmax(dim=-1)\n",
    "            targets = targets.float().resize_(len(targets), 1)\n",
    "        y_true = torch.cat((y_true, targets), 0)\n",
    "        y_score = torch.cat((y_score, outputs), 0)\n",
    "print(y_true.size(), y_score.size())"
   ]
  },
  {
   "cell_type": "markdown",
   "id": "94a19e49",
   "metadata": {},
   "source": [
    "#### How was AUC and ACC calculated in the source code of <code>MedMNIST</code>?: https://github.com/MedMNIST/MedMNIST/blob/d8422ac64028488133fd21ff54372729e12bbaba/medmnist/evaluator.py\n",
    "#### Answer: There were only the arithmetic means of AUC/ACC at all labels"
   ]
  },
  {
   "cell_type": "code",
   "execution_count": 93,
   "id": "15a8937a",
   "metadata": {},
   "outputs": [
    {
     "name": "stdout",
     "output_type": "stream",
     "text": [
      "(22433, 14) (22433, 14)\n",
      "==> Evaluating ...\n",
      "Metrics(AUC=0.5947056293188621, ACC=0.9463481732906242)\n"
     ]
    }
   ],
   "source": [
    "#y_true = y_true.numpy()\n",
    "#y_score = y_score.detach().numpy()    \n",
    "print(np.shape(y_true), np.shape(y_score))\n",
    "evaluator = Evaluator(data_flag, 'test')\n",
    "metrics = evaluator.evaluate(y_score)    \n",
    "print('==> Evaluating ...')\n",
    "print(metrics)"
   ]
  },
  {
   "cell_type": "code",
   "execution_count": null,
   "id": "4c7f2071",
   "metadata": {},
   "outputs": [],
   "source": [
    "# train ChestMNIST Data for 1 epoch\n",
    "NUM_EPOCHS = 1\n",
    "\n",
    "for epoch in range(NUM_EPOCHS):\n",
    "    train_correct = 0\n",
    "    train_total = 0\n",
    "    test_correct = 0\n",
    "    test_total = 0\n",
    "    \n",
    "    resn18_model.train()\n",
    "    for inputs, targets in tqdm(train_loader):\n",
    "        # forward + backward + optimize\n",
    "        optimizer.zero_grad()\n",
    "        outputs = resn18_model(inputs)\n",
    "        \n",
    "        if task == 'multi-label, binary-class':\n",
    "            targets = targets.to(torch.float32)\n",
    "            loss = criterion(outputs, targets)\n",
    "        else:\n",
    "            targets = targets.squeeze().long()\n",
    "            loss = criterion(outputs, targets)\n",
    "        \n",
    "        loss.backward()\n",
    "        optimizer.step()"
   ]
  },
  {
   "cell_type": "code",
   "execution_count": 144,
   "id": "8f8cffa7",
   "metadata": {},
   "outputs": [],
   "source": [
    "# save the one-epoch model to an external file\n",
    "torch.save(resn18_model.state_dict(), \"manuel_git_repo/notebooks/resnet18_chestmnist_test/1epoch_model\")"
   ]
  },
  {
   "cell_type": "code",
   "execution_count": 122,
   "id": "676e6e60",
   "metadata": {},
   "outputs": [
    {
     "name": "stdout",
     "output_type": "stream",
     "text": [
      "torch.Size([22433, 14]) torch.Size([22433, 14])\n",
      "torch.Size([22433, 14]) torch.Size([22433, 14])\n",
      "==> Evaluating ...\n",
      "Metrics(AUC=0.6075437745499812, ACC=0.9457049881870458)\n"
     ]
    }
   ],
   "source": [
    "# evaluate the 1 epoch model using ACC and AUC as metrics\n",
    "# predict the test dataset using the train model (1 epoch)\n",
    "resn18_model.eval()\n",
    "y_true = torch.tensor([])\n",
    "y_score = torch.tensor([])\n",
    "with torch.no_grad():\n",
    "    for inputs, targets in test_loader:\n",
    "        outputs = resn18_model(inputs)\n",
    "        if task == 'multi-label, binary-class':\n",
    "            targets = targets.to(torch.float32)\n",
    "            # use softmax instead of standard normalization\n",
    "            outputs = outputs.softmax(dim=-1)\n",
    "        # \"else\" part could be ignored since we don't evaluate other types of datasets \n",
    "        else:\n",
    "            targets = targets.squeeze().long()\n",
    "            outputs = outputs.softmax(dim=-1)\n",
    "            targets = targets.float().resize_(len(targets), 1)\n",
    "        y_true = torch.cat((y_true, targets), 0)\n",
    "        y_score = torch.cat((y_score, outputs), 0)\n",
    "print(y_true.size(), y_score.size())    \n",
    "print(np.shape(y_true), np.shape(y_score))\n",
    "evaluator = Evaluator(data_flag, 'test')\n",
    "metrics = evaluator.evaluate(y_score)    \n",
    "print('==> Evaluating ...')\n",
    "print(metrics)"
   ]
  },
  {
   "cell_type": "code",
   "execution_count": 130,
   "id": "42e06d60",
   "metadata": {},
   "outputs": [],
   "source": [
    "from torch import sigmoid"
   ]
  },
  {
   "cell_type": "code",
   "execution_count": null,
   "id": "208ff283",
   "metadata": {},
   "outputs": [],
   "source": [
    "# evaluate the 1 epoch model using ACC and AUC as metrics, with softmax normalization\n",
    "# predict the test dataset using the train model (1 epoch)\n",
    "resn18_model.eval()\n",
    "y_true = torch.tensor([])\n",
    "y_score = torch.tensor([])\n",
    "with torch.no_grad():\n",
    "    for inputs, targets in test_loader:\n",
    "        outputs = resn18_model(inputs)\n",
    "        if task == 'multi-label, binary-class':\n",
    "            targets = targets.to(torch.float32)\n",
    "            # use softmax instead of standard normalization\n",
    "            outputs = outputs.softmax(dim=-1)\n",
    "        # \"else\" part could be ignored since we don't evaluate other types of datasets \n",
    "        else:\n",
    "            targets = targets.squeeze().long()\n",
    "            outputs = outputs.(dim=-1)\n",
    "            targets = targets.float().resize_(len(targets), 1)\n",
    "        y_true = torch.cat((y_true, targets), 0)\n",
    "        y_score = torch.cat((y_score, outputs), 0)\n",
    "print(y_true.size(), y_score.size())    \n",
    "print(np.shape(y_true), np.shape(y_score))\n",
    "evaluator = Evaluator(data_flag, 'test')\n",
    "metrics = evaluator.evaluate(y_score)    \n",
    "print('==> Evaluating ...')\n",
    "print(metrics)"
   ]
  },
  {
   "cell_type": "code",
   "execution_count": 133,
   "id": "6e146fa1",
   "metadata": {},
   "outputs": [
    {
     "name": "stdout",
     "output_type": "stream",
     "text": [
      "torch.Size([22433, 14]) torch.Size([22433, 14])\n",
      "torch.Size([22433, 14]) torch.Size([22433, 14])\n",
      "==> Evaluating ...\n",
      "Metrics(AUC=0.6676118807276293, ACC=0.9471378262890767)\n"
     ]
    }
   ],
   "source": [
    "# evaluate the 1 epoch model using ACC and AUC as metrics, with sigmoid normalization\n",
    "# predict the test dataset using the train model (3 epochs)\n",
    "resn18_model.eval()\n",
    "y_true = torch.tensor([])\n",
    "y_score = torch.tensor([])\n",
    "with torch.no_grad():\n",
    "    for inputs, targets in test_loader:\n",
    "        outputs = resn18_model(inputs)\n",
    "        if task == 'multi-label, binary-class':\n",
    "            targets = targets.to(torch.float32)\n",
    "            # use softmax instead of standard normalization\n",
    "            outputs = sigmoid(outputs)\n",
    "        # \"else\" part could be ignored since we don't evaluate other types of datasets \n",
    "        else:\n",
    "            targets = targets.squeeze().long()\n",
    "            outputs = sigmoid(outputs)\n",
    "            targets = targets.float().resize_(len(targets), 1)\n",
    "        y_true = torch.cat((y_true, targets), 0)\n",
    "        y_score = torch.cat((y_score, outputs), 0)\n",
    "print(y_true.size(), y_score.size())    \n",
    "print(np.shape(y_true), np.shape(y_score))\n",
    "evaluator = Evaluator(data_flag, 'test')\n",
    "metrics = evaluator.evaluate(y_score)    \n",
    "print('==> Evaluating ...')\n",
    "print(metrics)"
   ]
  },
  {
   "cell_type": "code",
   "execution_count": 134,
   "id": "13bd4e92",
   "metadata": {},
   "outputs": [
    {
     "name": "stdout",
     "output_type": "stream",
     "text": [
      "torch.Size([22433, 14]) torch.Size([22433, 14])\n",
      "torch.Size([22433, 14]) torch.Size([22433, 14])\n",
      "==> Evaluating ...\n",
      "Metrics(AUC=0.6676118807276293, ACC=0.9474466825021811)\n"
     ]
    }
   ],
   "source": [
    "# evaluate the 1 epoch model using ACC and AUC as metrics, without normalization\n",
    "# predict the test dataset using the train model (1 epoch)\n",
    "resn18_model.eval()\n",
    "y_true = torch.tensor([])\n",
    "y_score = torch.tensor([])\n",
    "with torch.no_grad():\n",
    "    for inputs, targets in test_loader:\n",
    "        outputs = resn18_model(inputs)\n",
    "        if task == 'multi-label, binary-class':\n",
    "            targets = targets.to(torch.float32)\n",
    "            # use softmax instead of standard normalization\n",
    "            #outputs = sigmoid(outputs)\n",
    "        # \"else\" part could be ignored since we don't evaluate other types of datasets \n",
    "        else:\n",
    "            targets = targets.squeeze().long()\n",
    "            #outputs = sigmoid(outputs)\n",
    "            targets = targets.float().resize_(len(targets), 1)\n",
    "        y_true = torch.cat((y_true, targets), 0)\n",
    "        y_score = torch.cat((y_score, outputs), 0)\n",
    "print(y_true.size(), y_score.size())    \n",
    "print(np.shape(y_true), np.shape(y_score))\n",
    "evaluator = Evaluator(data_flag, 'test')\n",
    "metrics = evaluator.evaluate(y_score)    \n",
    "print('==> Evaluating ...')\n",
    "print(metrics)"
   ]
  },
  {
   "cell_type": "markdown",
   "id": "1f3bb621",
   "metadata": {},
   "source": [
    "#### Conclusion: as regards to AUC values, no normalization = sigmoid normalization > softmax normalization"
   ]
  },
  {
   "cell_type": "markdown",
   "id": "6382d6c1",
   "metadata": {},
   "source": [
    "---------------------------------------------------------------------------------------------------------------"
   ]
  },
  {
   "cell_type": "markdown",
   "id": "63322a76",
   "metadata": {},
   "source": [
    "#### Write a function to evaluate the precision/recall of the 1-epoch/3-epochs model"
   ]
  },
  {
   "cell_type": "code",
   "execution_count": 140,
   "id": "c9ebd7c2",
   "metadata": {},
   "outputs": [],
   "source": [
    "from sklearn.metrics import roc_auc_score, \\\n",
    "precision_recall_fscore_support\n",
    "from typing import Any, List, Callable"
   ]
  },
  {
   "cell_type": "code",
   "execution_count": 192,
   "id": "5cd39670",
   "metadata": {},
   "outputs": [],
   "source": [
    "def get_test_score(model: nn.Module, test_loader: torch.utils.data.DataLoader, threshold=0.5): \n",
    "    model.eval()\n",
    "    y_true = torch.tensor([])\n",
    "    y_score = torch.tensor([])\n",
    "    with torch.no_grad():\n",
    "        for inputs, targets in test_loader:\n",
    "            outputs = model(inputs)\n",
    "            logits = model(inputs)\n",
    "            targets = targets.to(torch.float32)\n",
    "            # use softmax instead of standard normalization\n",
    "            #outputs = outputs.softmax(dim=-1)\n",
    "            predictions = (outputs > threshold).int()\n",
    "            predictions = (logits > threshold).int()\n",
    "            # Concatenate this batch to the complete results\n",
    "            y_true = torch.cat((y_true, targets), 0)\n",
    "            y_score = torch.cat((y_score, predictions), 0)\n",
    "        print(y_true.shape, y_score.shape)\n",
    "        precision, recall, f1, support = precision_recall_fscore_support(y_true, y_score)\n",
    "        return precision, recall, f1\n",
    "        \"\"\"\n",
    "        # averaged auc value per label, unnecessary here\n",
    "        auc = 0\n",
    "        for i in range(y_score.shape[1]):\n",
    "            try:\n",
    "                label_auc = roc_auc_score(y_true[:, i], y_score[:, i])\n",
    "                precision, recall, f1, support = precision_recall_fscore_support(y_true[:, i])\n",
    "                auc += label_auc\n",
    "            except ValueError:\n",
    "                # If all labels are of the same value, an ValueError is thrown\n",
    "                # Equal to: auc += 0.0\n",
    "                pass\n",
    "        return auc / y_score.shape[1]\n",
    "        \"\"\""
   ]
  },
  {
   "cell_type": "markdown",
   "id": "a654f423",
   "metadata": {},
   "source": [
    "#### Start the evaluation for precision and recall value for the 3-epoch ResNet18 model"
   ]
  },
  {
   "cell_type": "code",
   "execution_count": 145,
   "id": "f60d8c50",
   "metadata": {},
   "outputs": [
    {
     "data": {
      "text/plain": [
       "<All keys matched successfully>"
      ]
     },
     "execution_count": 145,
     "metadata": {},
     "output_type": "execute_result"
    }
   ],
   "source": [
    "# load the three-epoch model\n",
    "resn18_model_3 = ResNet18(n_channels, n_classes)\n",
    "resn18_model_3.load_state_dict(torch.load(\"manuel_git_repo/notebooks/resnet18_chestmnist_test/3epochs_model\"))\n",
    "# load the one-epoch model\n",
    "resn18_model_1 = ResNet18(n_channels, n_classes)\n",
    "resn18_model_1.load_state_dict(torch.load(\"manuel_git_repo/notebooks/resnet18_chestmnist_test/1epoch_model\"))"
   ]
  },
  {
   "cell_type": "code",
   "execution_count": 188,
   "id": "b60b5d6e",
   "metadata": {},
   "outputs": [
    {
     "name": "stdout",
     "output_type": "stream",
     "text": [
      "torch.Size([22433, 14]) torch.Size([22433, 14])\n"
     ]
    },
    {
     "name": "stderr",
     "output_type": "stream",
     "text": [
      "/home/jiawei/anaconda3/envs/r_env/lib/python3.10/site-packages/sklearn/metrics/_classification.py:1327: UndefinedMetricWarning: Precision and F-score are ill-defined and being set to 0.0 in labels with no predicted samples. Use `zero_division` parameter to control this behavior.\n",
      "  _warn_prf(average, modifier, msg_start, len(result))\n"
     ]
    },
    {
     "name": "stdout",
     "output_type": "stream",
     "text": [
      "torch.Size([22433, 14]) torch.Size([22433, 14])\n"
     ]
    },
    {
     "name": "stderr",
     "output_type": "stream",
     "text": [
      "/home/jiawei/anaconda3/envs/r_env/lib/python3.10/site-packages/sklearn/metrics/_classification.py:1327: UndefinedMetricWarning: Precision and F-score are ill-defined and being set to 0.0 in labels with no predicted samples. Use `zero_division` parameter to control this behavior.\n",
      "  _warn_prf(average, modifier, msg_start, len(result))\n"
     ]
    }
   ],
   "source": [
    "eval_3epochs = get_test_score(model=resn18_model_3, test_loader=test_loader)\n",
    "eval_1epoch =  get_test_score(model=resn18_model_1, test_loader=test_loader)"
   ]
  },
  {
   "cell_type": "code",
   "execution_count": 189,
   "id": "a35443e0",
   "metadata": {
    "scrolled": true
   },
   "outputs": [
    {
     "name": "stdout",
     "output_type": "stream",
     "text": [
      "precision for a model trained for 3 epochs epochs: precision-[0.2        0.         0.51666667 0.         0.         0.\n",
      " 0.         0.         0.         0.         0.         0.\n",
      " 0.         0.        ] recall-[0.00041322 0.         0.02251271 0.         0.         0.\n",
      " 0.         0.         0.         0.         0.         0.\n",
      " 0.         0.        ] f1-[0.00082474 0.         0.04314544 0.         0.         0.\n",
      " 0.         0.         0.         0.         0.         0.\n",
      " 0.         0.        ]\n",
      "precision for a model trained for 1 epoch epochs: precision-[0.2        0.         0.51666667 0.         0.         0.\n",
      " 0.         0.         0.         0.         0.         0.\n",
      " 0.         0.        ] recall-[0.00041322 0.         0.02251271 0.         0.         0.\n",
      " 0.         0.         0.         0.         0.         0.\n",
      " 0.         0.        ] f1-[0.00082474 0.         0.04314544 0.         0.         0.\n",
      " 0.         0.         0.         0.         0.         0.\n",
      " 0.         0.        ]\n"
     ]
    }
   ],
   "source": [
    "for res, epc in zip((eval_3epochs, eval_3epochs), ('3 epochs', '1 epoch')):\n",
    "    print(f\"precision for a model trained for {epc} epochs: precision-{res[0]} recall-{res[1]} f1-{res[2]}\")"
   ]
  },
  {
   "cell_type": "markdown",
   "id": "2ae96a4f",
   "metadata": {},
   "source": [
    "#### Conclusion: the results appear to be extremely low in all the three metrics. Therefore, there was either problem in the training data or the input processing. When the threshold is 0.5, it behaves like that. \n",
    "#### Moreover, the 1-epoch model appears to be different. Let's try the 3-epochs model only at the moment."
   ]
  },
  {
   "cell_type": "markdown",
   "id": "f33590a7",
   "metadata": {},
   "source": [
    "#### Instead, I whould like to try a pre-trained ResNet18 model for testing"
   ]
  },
  {
   "cell_type": "code",
   "execution_count": 200,
   "id": "3610d97d",
   "metadata": {},
   "outputs": [],
   "source": [
    "from torchvision import models"
   ]
  },
  {
   "cell_type": "code",
   "execution_count": 209,
   "id": "47c6532a",
   "metadata": {},
   "outputs": [],
   "source": [
    "resnet18_trained = models.resnet18(pretrained=True)\n",
    "resnet18_trained.fc # check the dimension of the original pretrained fully-connected layer"
   ]
  },
  {
   "cell_type": "code",
   "execution_count": 220,
   "id": "4d22b402",
   "metadata": {},
   "outputs": [],
   "source": [
    "resnet18_trained.fc = nn.Linear(512, 14, bias=True)"
   ]
  },
  {
   "cell_type": "markdown",
   "id": "ea277758",
   "metadata": {},
   "source": [
    "#### Since the final fully-connected layer was modified, we would need to train on the final layer again (1 epoch for this time)"
   ]
  },
  {
   "cell_type": "code",
   "execution_count": 239,
   "id": "0c46e2c4",
   "metadata": {},
   "outputs": [
    {
     "name": "stdout",
     "output_type": "stream",
     "text": [
      "conv1.weight torch.Size([64, 3, 7, 7])\n",
      "bn1.weight torch.Size([64])\n",
      "bn1.bias torch.Size([64])\n",
      "layer1.0.conv1.weight torch.Size([64, 64, 3, 3])\n",
      "layer1.0.bn1.weight torch.Size([64])\n",
      "layer1.0.bn1.bias torch.Size([64])\n",
      "layer1.0.conv2.weight torch.Size([64, 64, 3, 3])\n",
      "layer1.0.bn2.weight torch.Size([64])\n",
      "layer1.0.bn2.bias torch.Size([64])\n",
      "layer1.1.conv1.weight torch.Size([64, 64, 3, 3])\n",
      "layer1.1.bn1.weight torch.Size([64])\n",
      "layer1.1.bn1.bias torch.Size([64])\n",
      "layer1.1.conv2.weight torch.Size([64, 64, 3, 3])\n",
      "layer1.1.bn2.weight torch.Size([64])\n",
      "layer1.1.bn2.bias torch.Size([64])\n",
      "layer2.0.conv1.weight torch.Size([128, 64, 3, 3])\n",
      "layer2.0.bn1.weight torch.Size([128])\n",
      "layer2.0.bn1.bias torch.Size([128])\n",
      "layer2.0.conv2.weight torch.Size([128, 128, 3, 3])\n",
      "layer2.0.bn2.weight torch.Size([128])\n",
      "layer2.0.bn2.bias torch.Size([128])\n",
      "layer2.0.downsample.0.weight torch.Size([128, 64, 1, 1])\n",
      "layer2.0.downsample.1.weight torch.Size([128])\n",
      "layer2.0.downsample.1.bias torch.Size([128])\n",
      "layer2.1.conv1.weight torch.Size([128, 128, 3, 3])\n",
      "layer2.1.bn1.weight torch.Size([128])\n",
      "layer2.1.bn1.bias torch.Size([128])\n",
      "layer2.1.conv2.weight torch.Size([128, 128, 3, 3])\n",
      "layer2.1.bn2.weight torch.Size([128])\n",
      "layer2.1.bn2.bias torch.Size([128])\n",
      "layer3.0.conv1.weight torch.Size([256, 128, 3, 3])\n",
      "layer3.0.bn1.weight torch.Size([256])\n",
      "layer3.0.bn1.bias torch.Size([256])\n",
      "layer3.0.conv2.weight torch.Size([256, 256, 3, 3])\n",
      "layer3.0.bn2.weight torch.Size([256])\n",
      "layer3.0.bn2.bias torch.Size([256])\n",
      "layer3.0.downsample.0.weight torch.Size([256, 128, 1, 1])\n",
      "layer3.0.downsample.1.weight torch.Size([256])\n",
      "layer3.0.downsample.1.bias torch.Size([256])\n",
      "layer3.1.conv1.weight torch.Size([256, 256, 3, 3])\n",
      "layer3.1.bn1.weight torch.Size([256])\n",
      "layer3.1.bn1.bias torch.Size([256])\n",
      "layer3.1.conv2.weight torch.Size([256, 256, 3, 3])\n",
      "layer3.1.bn2.weight torch.Size([256])\n",
      "layer3.1.bn2.bias torch.Size([256])\n",
      "layer4.0.conv1.weight torch.Size([512, 256, 3, 3])\n",
      "layer4.0.bn1.weight torch.Size([512])\n",
      "layer4.0.bn1.bias torch.Size([512])\n",
      "layer4.0.conv2.weight torch.Size([512, 512, 3, 3])\n",
      "layer4.0.bn2.weight torch.Size([512])\n",
      "layer4.0.bn2.bias torch.Size([512])\n",
      "layer4.0.downsample.0.weight torch.Size([512, 256, 1, 1])\n",
      "layer4.0.downsample.1.weight torch.Size([512])\n",
      "layer4.0.downsample.1.bias torch.Size([512])\n",
      "layer4.1.conv1.weight torch.Size([512, 512, 3, 3])\n",
      "layer4.1.bn1.weight torch.Size([512])\n",
      "layer4.1.bn1.bias torch.Size([512])\n",
      "layer4.1.conv2.weight torch.Size([512, 512, 3, 3])\n",
      "layer4.1.bn2.weight torch.Size([512])\n",
      "layer4.1.bn2.bias torch.Size([512])\n",
      "fc.weight torch.Size([14, 512])\n",
      "fc.bias torch.Size([14])\n"
     ]
    }
   ],
   "source": [
    "for name, param in resnet18_trained.named_parameters():\n",
    "    print(name, param.size())"
   ]
  },
  {
   "cell_type": "code",
   "execution_count": 241,
   "id": "5eb7c503",
   "metadata": {},
   "outputs": [],
   "source": [
    "resnet18_trained.layer1.requires_grad=False\n",
    "resnet18_trained.layer2.requires_grad=False\n",
    "resnet18_trained.layer3.requires_grad=False\n",
    "resnet18_trained.layer4.requires_grad=False"
   ]
  },
  {
   "cell_type": "code",
   "execution_count": 248,
   "id": "9c9caff2",
   "metadata": {},
   "outputs": [
    {
     "name": "stderr",
     "output_type": "stream",
     "text": [
      "100%|███████████████████████████████████████████████████████████████████████████████████████████████████████| 307/307 [31:01<00:00,  6.06s/it]\n"
     ]
    }
   ],
   "source": [
    "# train only the final fully connected layer using ChestMNIST Data for 1 epoch\n",
    "NUM_EPOCHS = 1\n",
    "\n",
    "for epoch in range(NUM_EPOCHS):\n",
    "    train_correct = 0\n",
    "    train_total = 0\n",
    "    test_correct = 0\n",
    "    test_total = 0\n",
    "    \n",
    "    resnet18_trained.train()\n",
    "    for inputs, targets in tqdm(train_loader):\n",
    "        # forward + backward + optimize\n",
    "        optimizer.zero_grad()\n",
    "        outputs = resnet18_trained(inputs.repeat(1, 3, 1, 1))\n",
    "        if task == 'multi-label, binary-class':\n",
    "            targets = targets.to(torch.float32)\n",
    "            loss = criterion(outputs, targets)\n",
    "        else:\n",
    "            targets = targets.squeeze().long()\n",
    "            loss = criterion(outputs, targets)\n",
    "        \n",
    "        loss.backward()\n",
    "        optimizer.step()"
   ]
  },
  {
   "cell_type": "code",
   "execution_count": 225,
   "id": "4a0d63a7",
   "metadata": {},
   "outputs": [],
   "source": [
    "def get_test_score(model: nn.Module, test_loader: torch.utils.data.DataLoader, threshold=0.5): \n",
    "    model.eval()\n",
    "    y_true = torch.tensor([])\n",
    "    y_score = torch.tensor([])\n",
    "    with torch.no_grad():\n",
    "        for inputs, targets in test_loader:\n",
    "            # convert a one-channel input into a three-channel one\n",
    "            inputs = inputs.repeat(1, 3, 1, 1)\n",
    "            outputs = model(inputs)\n",
    "            #print(outputs.shape)\n",
    "            logits = model(inputs)\n",
    "            targets = targets.to(torch.float32)\n",
    "            # use softmax instead of standard normalization\n",
    "            #outputs = outputs.softmax(dim=-1)\n",
    "            predictions = (outputs > threshold).int()\n",
    "            predictions = (logits > threshold).int()\n",
    "            # Concatenate this batch to the complete results\n",
    "            y_true = torch.cat((y_true, targets), 0)\n",
    "            y_score = torch.cat((y_score, predictions), 0)\n",
    "        print(y_true.shape, y_score.shape)\n",
    "        precision, recall, f1, support = precision_recall_fscore_support(y_true, y_score)\n",
    "        return precision, recall, f1\n",
    "        \"\"\"\n",
    "        # averaged auc value per label, unnecessary here\n",
    "        auc = 0\n",
    "        for i in range(y_score.shape[1]):\n",
    "            try:\n",
    "                label_auc = roc_auc_score(y_true[:, i], y_score[:, i])\n",
    "                precision, recall, f1, support = precision_recall_fscore_support(y_true[:, i])\n",
    "                auc += label_auc\n",
    "            except ValueError:\n",
    "                # If all labels are of the same value, an ValueError is thrown\n",
    "                # Equal to: auc += 0.0\n",
    "                pass\n",
    "        return auc / y_score.shape[1]\n",
    "        \"\"\""
   ]
  },
  {
   "cell_type": "code",
   "execution_count": 226,
   "id": "3ed18457",
   "metadata": {},
   "outputs": [
    {
     "name": "stdout",
     "output_type": "stream",
     "text": [
      "torch.Size([22433, 14]) torch.Size([22433, 14])\n"
     ]
    },
    {
     "name": "stderr",
     "output_type": "stream",
     "text": [
      "/home/jiawei/anaconda3/envs/r_env/lib/python3.10/site-packages/sklearn/metrics/_classification.py:1327: UndefinedMetricWarning: Precision and F-score are ill-defined and being set to 0.0 in labels with no predicted samples. Use `zero_division` parameter to control this behavior.\n",
      "  _warn_prf(average, modifier, msg_start, len(result))\n"
     ]
    }
   ],
   "source": [
    "eval_pretrained =  get_test_score(model=resnet18_trained, test_loader=test_loader)"
   ]
  },
  {
   "cell_type": "code",
   "execution_count": 251,
   "id": "8b8350db",
   "metadata": {},
   "outputs": [
    {
     "name": "stdout",
     "output_type": "stream",
     "text": [
      "precision for a pretrained ResNet18 model at ImageNet: precision-[0.11393229 0.02574257 0.12909344 0.1842714  0.04283802 0.06145251\n",
      " 0.01114206 0.0706619  0.04842083 0.01591512 0.0297542  0.01794505\n",
      " 0.03227176 0.00224115] recall-[0.1446281  0.06701031 0.37073348 0.06069071 0.0282436  0.1071161\n",
      " 0.04958678 0.21763085 0.48380355 0.08716707 0.04518664 0.3121547\n",
      " 0.10354223 0.23809524] f1-[0.12745812 0.03719599 0.19150333 0.0913085  0.03404255 0.0780994\n",
      " 0.0181956  0.10668467 0.08803118 0.02691589 0.03588144 0.03393903\n",
      " 0.04920686 0.0044405 ]\n"
     ]
    }
   ],
   "source": [
    "res = eval_pretrained\n",
    "print(f\"precision for a pretrained ResNet18 model at ImageNet: precision-{res[0]} recall-{res[1]} f1-{res[2]}\")"
   ]
  },
  {
   "cell_type": "code",
   "execution_count": 256,
   "id": "5f4403fc",
   "metadata": {},
   "outputs": [
    {
     "name": "stdout",
     "output_type": "stream",
     "text": [
      "avg recall: 0.1654, avg precision: 0.0659\n"
     ]
    }
   ],
   "source": [
    "print(f\"avg recall: {round(np.mean(res[1]), 4)}, avg precision: {round(np.mean(res[2]), 4)}\")"
   ]
  },
  {
   "cell_type": "markdown",
   "id": "a7996545",
   "metadata": {},
   "source": [
    "-----------------------------------------------------------------------------------------------"
   ]
  }
 ],
 "metadata": {
  "kernelspec": {
   "display_name": "Python 3 (ipykernel)",
   "language": "python",
   "name": "python3"
  },
  "language_info": {
   "codemirror_mode": {
    "name": "ipython",
    "version": 3
   },
   "file_extension": ".py",
   "mimetype": "text/x-python",
   "name": "python",
   "nbconvert_exporter": "python",
   "pygments_lexer": "ipython3",
   "version": "3.10.1"
  }
 },
 "nbformat": 4,
 "nbformat_minor": 5
}
